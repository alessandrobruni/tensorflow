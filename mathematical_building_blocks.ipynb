{
  "nbformat": 4,
  "nbformat_minor": 0,
  "metadata": {
    "colab": {
      "provenance": [],
      "toc_visible": true,
      "include_colab_link": true
    },
    "kernelspec": {
      "name": "python3",
      "language": "python",
      "display_name": "Python 3 (ipykernel)"
    },
    "language_info": {
      "name": "python"
    }
  },
  "cells": [
    {
      "cell_type": "markdown",
      "metadata": {
        "id": "view-in-github",
        "colab_type": "text"
      },
      "source": [
        "<a href=\"https://colab.research.google.com/github/alessandrobruni/tensorflow-mystudy-notes/blob/main/mathematical_building_blocks.ipynb\" target=\"_parent\"><img src=\"https://colab.research.google.com/assets/colab-badge.svg\" alt=\"Open In Colab\"/></a>"
      ]
    },
    {
      "cell_type": "markdown",
      "source": [
        "\n",
        "# Data representations for neural networks\n",
        "\n",
        "From book Deep learning  with Python\n",
        "\n",
        "Here is, i beleave the most important chapter of the book.  \n",
        "In tthis chapter Francois Chollet buid up the intuition aboute the mathematical concepts behind  \n",
        "* tensor\n",
        "* operations\n",
        "* differentiation\n",
        "* gradient discend \n",
        "* andthe core blocks for a **neural network** this is the most exciting part "
      ],
      "metadata": {
        "id": "uIO6qOmZLWPS"
      }
    },
    {
      "cell_type": "code",
      "source": [
        "from tensorflow.keras.datasets import mnist\n",
        "(train_img, train_label), (test_img, test_label) = mnist.load_data()"
      ],
      "metadata": {
        "id": "D5-PALxzMesC"
      },
      "execution_count": null,
      "outputs": []
    },
    {
      "cell_type": "code",
      "execution_count": null,
      "outputs": [
        {
          "name": "stdout",
          "output_type": "stream",
          "text": [
            "2.9.0\n"
          ]
        }
      ],
      "source": [
        "import tensorflow as tf\n",
        "print(tf.__version__)"
      ],
      "metadata": {
        "id": "HTQG_v5wv5x3",
        "outputId": "6543eacb-5bc9-41c1-97e0-382a4ed4c146"
      }
    },
    {
      "cell_type": "code",
      "source": [
        "#dimension , rank of the data\n",
        "print( f\"ndim train: {train_img.ndim}, label {train_label.ndim}\")\n",
        "print( f\"shape  train: {train_img.shape }, label {train_label.shape}\")\n",
        "print( f\"dtype  train: {train_img.dtype }, label {train_label.dtype}\")\n",
        "\n"
      ],
      "metadata": {
        "colab": {
          "base_uri": "https://localhost:8080/"
        },
        "id": "s5r9oX-dM3A4",
        "outputId": "6d3b136e-0a92-4dfa-ee06-a45ba456319a"
      },
      "execution_count": null,
      "outputs": [
        {
          "name": "stdout",
          "output_type": "stream",
          "text": [
            "ndim train: 3, label 1\n",
            "shape  train: (60000, 28, 28), label (60000,)\n",
            "dtype  train: uint8, label uint8\n"
          ]
        }
      ]
    },
    {
      "cell_type": "code",
      "source": [
        "import sys \n",
        "import numpy as np\n",
        "np.set_printoptions(threshold=sys.maxsize)\n",
        "np.set_printoptions(linewidth=300)\n"
      ],
      "metadata": {
        "id": "ibWsm5dZQJbw"
      },
      "execution_count": null,
      "outputs": []
    },
    {
      "cell_type": "code",
      "source": [
        "import matplotlib.pyplot as plt\n",
        "digit = train_img[5]\n",
        "plt.imshow(digit)\n",
        "plt.show()\n",
        "print(train_label[5])\n",
        "print(digit)"
      ],
      "metadata": {
        "colab": {
          "base_uri": "https://localhost:8080/",
          "height": 768
        },
        "id": "EFlpC-6KNVeg",
        "outputId": "019d6441-cb29-4da7-d162-31bbda1e11de"
      },
      "execution_count": null,
      "outputs": [
        {
          "data": {
            "text/plain": "<Figure size 640x480 with 1 Axes>",
            "image/png": "[encoded data removed]"
          },
          "metadata": {},
          "output_type": "display_data"
        },
        {
          "name": "stdout",
          "output_type": "stream",
          "text": [
            "2\n",
            "[[  0   0   0   0   0   0   0   0   0   0   0   0   0   0   0   0   0   0   0   0   0   0   0   0   0   0   0   0]\n",
            " [  0   0   0   0   0   0   0   0   0   0   0   0   0   0   0   0   0   0   0   0   0   0   0   0   0   0   0   0]\n",
            " [  0   0   0   0   0   0   0   0   0   0   0   0   0   0   0   0   0   0   0   0   0   0   0   0   0   0   0   0]\n",
            " [  0   0   0   0   0   0   0   0   0   0   0   0   0   0   0   0   0   0   0   0   0   0   0   0   0   0   0   0]\n",
            " [  0   0   0   0   0   0   0   0   0   0   0   0   0   0   0   0   0   0   0   0   0   0   0   0   0   0   0   0]\n",
            " [  0   0   0   0   0   0   0   0   0   0   0   0   0   0   0  13  25 100 122   7   0   0   0   0   0   0   0   0]\n",
            " [  0   0   0   0   0   0   0   0   0   0   0   0   0  33 151 208 252 252 252 146   0   0   0   0   0   0   0   0]\n",
            " [  0   0   0   0   0   0   0   0   0   0   0  40 152 244 252 253 224 211 252 232  40   0   0   0   0   0   0   0]\n",
            " [  0   0   0   0   0   0   0   0   0  15 152 239 252 252 252 216  31  37 252 252  60   0   0   0   0   0   0   0]\n",
            " [  0   0   0   0   0   0   0   0   0  96 252 252 252 252 217  29   0  37 252 252  60   0   0   0   0   0   0   0]\n",
            " [  0   0   0   0   0   0   0   0   0 181 252 252 220 167  30   0   0  77 252 252  60   0   0   0   0   0   0   0]\n",
            " [  0   0   0   0   0   0   0   0   0  26 128  58  22   0   0   0   0 100 252 252  60   0   0   0   0   0   0   0]\n",
            " [  0   0   0   0   0   0   0   0   0   0   0   0   0   0   0   0   0 157 252 252  60   0   0   0   0   0   0   0]\n",
            " [  0   0   0   0   0   0   0   0   0   0   0   0   0 110 121 122 121 202 252 194   3   0   0   0   0   0   0   0]\n",
            " [  0   0   0   0   0   0   0   0   0   0  10  53 179 253 253 255 253 253 228  35   0   0   0   0   0   0   0   0]\n",
            " [  0   0   0   0   0   0   0   0   5  54 227 252 243 228 170 242 252 252 231 117   6   0   0   0   0   0   0   0]\n",
            " [  0   0   0   0   0   0   0   6  78 252 252 125  59   0  18 208 252 252 252 252  87   7   0   0   0   0   0   0]\n",
            " [  0   0   0   0   0   0   5 135 252 252 180  16   0  21 203 253 247 129 173 252 252 184  66  49  49   0   0   0]\n",
            " [  0   0   0   0   0   3 136 252 241 106  17   0  53 200 252 216  65   0  14  72 163 241 252 252 223   0   0   0]\n",
            " [  0   0   0   0   0 105 252 242  88  18  73 170 244 252 126  29   0   0   0   0   0  89 180 180  37   0   0   0]\n",
            " [  0   0   0   0   0 231 252 245 205 216 252 252 252 124   3   0   0   0   0   0   0   0   0   0   0   0   0   0]\n",
            " [  0   0   0   0   0 207 252 252 252 252 178 116  36   4   0   0   0   0   0   0   0   0   0   0   0   0   0   0]\n",
            " [  0   0   0   0   0  13  93 143 121  23   6   0   0   0   0   0   0   0   0   0   0   0   0   0   0   0   0   0]\n",
            " [  0   0   0   0   0   0   0   0   0   0   0   0   0   0   0   0   0   0   0   0   0   0   0   0   0   0   0   0]\n",
            " [  0   0   0   0   0   0   0   0   0   0   0   0   0   0   0   0   0   0   0   0   0   0   0   0   0   0   0   0]\n",
            " [  0   0   0   0   0   0   0   0   0   0   0   0   0   0   0   0   0   0   0   0   0   0   0   0   0   0   0   0]\n",
            " [  0   0   0   0   0   0   0   0   0   0   0   0   0   0   0   0   0   0   0   0   0   0   0   0   0   0   0   0]\n",
            " [  0   0   0   0   0   0   0   0   0   0   0   0   0   0   0   0   0   0   0   0   0   0   0   0   0   0   0   0]]\n"
          ]
        }
      ]
    },
    {
      "cell_type": "markdown",
      "source": [
        "## bath \n",
        "In general the first axis is the batch axis.\n",
        "The first axis is the one that contains the samples.\n",
        "Usually models do not process all data in one time, but they split the data in small batches"
      ],
      "metadata": {
        "id": "sx5mIds4SPwC"
      }
    },
    {
      "cell_type": "code",
      "source": [
        "#batch size of 128 samples\n",
        "batch = train_img[:128]\n",
        "\n",
        "# nth  batch size = nth 128 samples \n",
        "\n",
        "n=3\n",
        "batch_n = train_img[128*n: 128*(n+1)]\n",
        "batch_n.shape"
      ],
      "metadata": {
        "colab": {
          "base_uri": "https://localhost:8080/"
        },
        "id": "Y8U00Rs6SzzK",
        "outputId": "ce5920da-81bf-4ac8-c960-e6cf4cb898c0"
      },
      "execution_count": null,
      "outputs": [
        {
          "data": {
            "text/plain": "(128, 28, 28)"
          },
          "execution_count": 73,
          "metadata": {},
          "output_type": "execute_result"
        }
      ]
    },
    {
      "cell_type": "markdown",
      "source": [
        "## Dense layer\n",
        "\n"
      ],
      "metadata": {
        "id": "iHm2to-DTwSK"
      }
    },
    {
      "cell_type": "code",
      "source": [
        "#keras instance layer is like this\n",
        "from tensorflow import keras\n",
        "keras.layers.Dense(512, activation = \"relu\")"
      ],
      "metadata": {
        "colab": {
          "base_uri": "https://localhost:8080/"
        },
        "id": "p9XYbB3VT0dR",
        "outputId": "a9f16e37-ece4-48e1-8cad-a2fc0b8875df"
      },
      "execution_count": null,
      "outputs": [
        {
          "data": {
            "text/plain": "<keras.layers.core.dense.Dense at 0x2a122948fd0>"
          },
          "execution_count": 74,
          "metadata": {},
          "output_type": "execute_result"
        }
      ]
    },
    {
      "cell_type": "markdown",
      "source": [
        "this is equal to   \n",
        "```\n",
        "output= relu(dot(input, W) + d )\n",
        "```\n",
        "\n",
        "\n",
        "\n"
      ],
      "metadata": {
        "id": "ySS_DhqCVXrq"
      }
    },
    {
      "cell_type": "code",
      "source": [
        "import numpy as np\n",
        "\n",
        "def my_dense(features, weigths, intercepts  ):\n",
        "  assert features.ndim == 2 and intercepts.ndim ==1\n",
        "  x = features + intercepts\n",
        "  x = np.dot(x,weigths)\n",
        "  return x\n",
        "\n",
        "def my_relu( values):\n",
        "  return np.maximum(values , 0.)\n",
        "\n",
        "#test relu\n",
        "test_values = np.random.random((4,10)) - 0.3\n",
        "print(test_values)\n",
        "print(np.where(test_values<0))\n",
        "print(np.where(my_relu(test_values)<0)) #no one egative"
      ],
      "metadata": {
        "colab": {
          "base_uri": "https://localhost:8080/"
        },
        "id": "cv5QdkI1Vm6K",
        "outputId": "503582b1-07ee-4238-bcfd-eb6bef7220fb"
      },
      "execution_count": null,
      "outputs": [
        {
          "name": "stdout",
          "output_type": "stream",
          "text": [
            "[[ 0.67657228 -0.13497108  0.25514082  0.00197735  0.68483713  0.30696014  0.57219515 -0.12359165  0.09364444 -0.21790427]\n",
            " [ 0.31064961 -0.16766757  0.6610304  -0.22410969  0.13834516  0.47048557  0.63956872  0.23071545  0.53916847  0.60089567]\n",
            " [ 0.06628313  0.07772757  0.49682468  0.44909426  0.43130229  0.12594281  0.54636376 -0.09403925 -0.29693948  0.06333889]\n",
            " [ 0.37530251  0.15888781  0.36331396  0.33307616 -0.01704141 -0.17067987  0.62526479  0.45003173  0.38465725  0.36146864]]\n",
            "(array([0, 0, 0, 1, 1, 2, 2, 3, 3], dtype=int64), array([1, 7, 9, 1, 3, 7, 8, 4, 5], dtype=int64))\n",
            "(array([], dtype=int64), array([], dtype=int64))\n"
          ]
        }
      ]
    },
    {
      "cell_type": "markdown",
      "source": [
        "## Broadcasting\n",
        "When possible, and if there is no ambiguity, the small tensor will be broacasted to match the largest one.\n",
        " * axes (called the broadcast axes) are added to the smaller tensor, to match the ndim of the larger one\n",
        " *  the smallest tensor is repeted alogside these axes to match the full shape of the larger tensor"
      ],
      "metadata": {
        "id": "dqxKNLuRgXNK"
      }
    },
    {
      "cell_type": "code",
      "source": [
        "import numpy as np\n",
        "\n",
        "X = np.random.random((5,10))\n",
        "Y = np.random.random(10)\n",
        "X,Y\n"
      ],
      "metadata": {
        "colab": {
          "base_uri": "https://localhost:8080/"
        },
        "id": "CHrCDng8-VVf",
        "outputId": "96172a77-6852-400d-a179-c85b792ddd16"
      },
      "execution_count": null,
      "outputs": [
        {
          "data": {
            "text/plain": "(array([[0.3512652 , 0.98409449, 0.71321451, 0.87958201, 0.8514174 , 0.72672302, 0.14319713, 0.25432851, 0.80805763, 0.00733022],\n        [0.55503074, 0.18701183, 0.28099495, 0.96118517, 0.23176235, 0.56846785, 0.12916269, 0.32943227, 0.43454342, 0.46972447],\n        [0.68475411, 0.75275172, 0.42368407, 0.66534737, 0.08213155, 0.30788323, 0.53748669, 0.92239462, 0.13942493, 0.29427984],\n        [0.68028718, 0.09900925, 0.15782259, 0.40251531, 0.79282281, 0.8416569 , 0.19122867, 0.52046483, 0.87618311, 0.0408213 ],\n        [0.5637545 , 0.22203359, 0.81729284, 0.13415462, 0.20890396, 0.42177533, 0.8459333 , 0.44847509, 0.90418657, 0.19911899]]),\n array([0.49786097, 0.33398783, 0.51912485, 0.06055439, 0.3066395 , 0.87073408, 0.45622104, 0.29193625, 0.4949585 , 0.25205471]))"
          },
          "execution_count": 76,
          "metadata": {},
          "output_type": "execute_result"
        }
      ]
    },
    {
      "cell_type": "code",
      "source": [
        "#add an axis\n",
        "Y1 = np.expand_dims(Y,axis=0)\n",
        "Y1.shape"
      ],
      "metadata": {
        "colab": {
          "base_uri": "https://localhost:8080/"
        },
        "id": "3ziWIDBw-m63",
        "outputId": "09b179c9-74bf-4888-9773-ff609db8cb80"
      },
      "execution_count": null,
      "outputs": [
        {
          "data": {
            "text/plain": "(1, 10)"
          },
          "execution_count": 77,
          "metadata": {},
          "output_type": "execute_result"
        }
      ]
    },
    {
      "cell_type": "code",
      "source": [
        "Y1 = np.concatenate([Y1] * X.shape[0], axis = 0 )\n",
        "Y1"
      ],
      "metadata": {
        "colab": {
          "base_uri": "https://localhost:8080/"
        },
        "id": "-6Z1l7iK_JqA",
        "outputId": "27728c73-05b3-4bac-e062-346d798f58c6"
      },
      "execution_count": null,
      "outputs": [
        {
          "data": {
            "text/plain": "array([[0.49786097, 0.33398783, 0.51912485, 0.06055439, 0.3066395 , 0.87073408, 0.45622104, 0.29193625, 0.4949585 , 0.25205471],\n       [0.49786097, 0.33398783, 0.51912485, 0.06055439, 0.3066395 , 0.87073408, 0.45622104, 0.29193625, 0.4949585 , 0.25205471],\n       [0.49786097, 0.33398783, 0.51912485, 0.06055439, 0.3066395 , 0.87073408, 0.45622104, 0.29193625, 0.4949585 , 0.25205471],\n       [0.49786097, 0.33398783, 0.51912485, 0.06055439, 0.3066395 , 0.87073408, 0.45622104, 0.29193625, 0.4949585 , 0.25205471],\n       [0.49786097, 0.33398783, 0.51912485, 0.06055439, 0.3066395 , 0.87073408, 0.45622104, 0.29193625, 0.4949585 , 0.25205471]])"
          },
          "execution_count": 78,
          "metadata": {},
          "output_type": "execute_result"
        }
      ]
    },
    {
      "cell_type": "markdown",
      "source": [
        "## Tensor reshaping\n",
        "Reshapig means rearrenge the shape to match a target shape.\n",
        "The most useful in tensor operation is transpose"
      ],
      "metadata": {
        "id": "pCbqpJCRAWUw"
      }
    },
    {
      "cell_type": "code",
      "source": [
        "x = np.zeros((300,20))\n",
        "y = np.transpose(x)\n",
        "x.shape, y.shape"
      ],
      "metadata": {
        "colab": {
          "base_uri": "https://localhost:8080/"
        },
        "id": "HyLKMhRDBBOY",
        "outputId": "8d6f0ff8-cb26-45bb-d19c-9f6412b0e85e"
      },
      "execution_count": null,
      "outputs": [
        {
          "data": {
            "text/plain": "((300, 20), (20, 300))"
          },
          "execution_count": 79,
          "metadata": {},
          "output_type": "execute_result"
        }
      ]
    },
    {
      "cell_type": "markdown",
      "source": [
        "## Gradient tape\n",
        "\n",
        "Gradient tape : is a python scope, that records tensor operations that run inside it, in the fom of computation graphs  called tapes).\n",
        "These graphs can be used to retrive the gradient of any output with respect to a variable or set of variables (instances or tf.Variable class.\n",
        "\n"
      ],
      "metadata": {
        "id": "SCeQEHS8Bzwm"
      }
    },
    {
      "cell_type": "code",
      "source": [
        "import tensorflow as tf\n",
        "\n",
        "x = tf.Variable(0.0 )   # scalar\n",
        "\n",
        "with tf.GradientTape( ) as tape: # inside this scope apply the math functions\n",
        "  y = 2*x +5\n",
        "\n",
        "grad_of_y_wrt_x = tape.gradient(y,x)   \n",
        "grad_of_y_wrt_x.numpy()"
      ],
      "metadata": {
        "colab": {
          "base_uri": "https://localhost:8080/"
        },
        "id": "Pbwsnz0YCk8Z",
        "outputId": "033ef015-b2a9-4445-8224-7131b46de726"
      },
      "execution_count": null,
      "outputs": [
        {
          "data": {
            "text/plain": "2.0"
          },
          "execution_count": 80,
          "metadata": {},
          "output_type": "execute_result"
        }
      ]
    },
    {
      "cell_type": "code",
      "source": [
        "\n",
        "x2 = tf.Variable(tf.random.uniform((2,2)))\n",
        "with tf.GradientTape() as tape:\n",
        "  y = 2*x2 + 5\n",
        "\n",
        "grad_of_y_wrt_x = tape.gradient(y,x2)\n",
        "grad_of_y_wrt_x"
      ],
      "metadata": {
        "colab": {
          "base_uri": "https://localhost:8080/"
        },
        "id": "zOh7em67DMHv",
        "outputId": "c7e7e287-897e-4da1-8cf6-ed12caddb82a"
      },
      "execution_count": null,
      "outputs": [
        {
          "data": {
            "text/plain": "<tf.Tensor: shape=(2, 2), dtype=float32, numpy=\narray([[2., 2.],\n       [2., 2.]], dtype=float32)>"
          },
          "execution_count": 81,
          "metadata": {},
          "output_type": "execute_result"
        }
      ]
    },
    {
      "cell_type": "code",
      "source": [
        "tf.random.set_seed(100)\n",
        "W = tf.Variable(tf.random.uniform((2,2)))\n",
        "b = tf.Variable(tf.zeros((2,)))\n",
        "x = tf.random.uniform((2,2))\n",
        "\n",
        "with tf.GradientTape() as tape:  # inside this scope apply the math functions\n",
        "  y = tf.matmul(W,x) + b\n",
        "\n",
        "gg = tape.gradient(y, (W,b))\n",
        "gg, W, x"
      ],
      "metadata": {
        "colab": {
          "base_uri": "https://localhost:8080/"
        },
        "id": "lJ5XrbwcD794",
        "outputId": "61fb848b-3cfe-430b-cd70-d4c478a90d8c"
      },
      "execution_count": null,
      "outputs": [
        {
          "data": {
            "text/plain": "((<tf.Tensor: shape=(2, 2), dtype=float32, numpy=\n  array([[0.94293904, 1.4424223 ],\n         [0.94293904, 1.4424223 ]], dtype=float32)>,\n  <tf.Tensor: shape=(2,), dtype=float32, numpy=array([2., 2.], dtype=float32)>),\n <tf.Variable 'Variable:0' shape=(2, 2) dtype=float32, numpy=\n array([[0.24900055, 0.48465526],\n        [0.39165282, 0.8218267 ]], dtype=float32)>,\n <tf.Tensor: shape=(2, 2), dtype=float32, numpy=\n array([[0.76732683, 0.17561221],\n        [0.7366072 , 0.7058151 ]], dtype=float32)>)"
          },
          "execution_count": 82,
          "metadata": {},
          "output_type": "execute_result"
        }
      ]
    },
    {
      "cell_type": "code",
      "source": [],
      "metadata": {
        "id": "TuIvxOgSFVgw"
      },
      "execution_count": null,
      "outputs": []
    },
    {
      "cell_type": "markdown",
      "source": [
        "## A simple dense class\n",
        "\n",
        "Dense is the following simple transformation\n",
        "\n",
        "\n",
        "```\n",
        "output = activation( dot( W,x) + d )  \n",
        "```\n",
        "\n"
      ],
      "metadata": {
        "id": "Vxf417orGw2Q"
      }
    },
    {
      "cell_type": "code",
      "source": [
        "import tensorflow as tf\n",
        "\n",
        "\n",
        "class NaiveDense:\n",
        "  def __init__(self,input_size, output_size, activation):\n",
        "    print(\"-- Instantiate NaiveDense -------------------------------------------\")\n",
        "    self.activation = activation\n",
        "    print(f\"-- input_size: {input_size} output_size: {output_size} -------------------------------------------\")\n",
        "    w_shape = (input_size, output_size)\n",
        "    w_initial_value = tf.random.uniform( w_shape, minval=0, maxval= 1e-1)\n",
        "    self.W = tf.Variable( w_initial_value )\n",
        "\n",
        "    b_shape = (output_size,)\n",
        "    b_initial_value = tf.zeros( b_shape )\n",
        "    self.b = tf.Variable( b_initial_value)\n",
        "\n",
        "  def __call__(self, inputs):\n",
        "    print(\"-- Call NaiveDense -------------------------------------------\")\n",
        "    print(f\"W: \\n{ self.W.shape}\")\n",
        "    print(f\"b: \\n{ self.b.shape}\")\n",
        "    print(f\"inputs: \\n{ inputs.shape}\")\n",
        "    step = self.activation(tf.matmul(inputs,self.W) + self.b)\n",
        "    print(step.shape)\n",
        "    return step\n",
        "\n",
        "  @property\n",
        "  def weigths(self):\n",
        "    print(f\"printing NaiveDense weigths\\nW : {self.W.shape}\")\n",
        "    print(f\"b : {self.b.shape}\")\n",
        "    return (self.W, self.b)\n",
        "\n",
        "  \n",
        "\n"
      ],
      "metadata": {
        "id": "UPqBbDdgG6U3"
      },
      "execution_count": null,
      "outputs": []
    },
    {
      "cell_type": "markdown",
      "source": [
        "## a simple sequential  class\n",
        "\n",
        "Simple class to chain the layers\n",
        "Wraps the list of layers, and the call a funtion tha chains the layer with the input"
      ],
      "metadata": {
        "id": "t4tZyHtIJACS"
      }
    },
    {
      "cell_type": "code",
      "execution_count": null,
      "outputs": [],
      "source": [
        "import pdb\n",
        "\n",
        "from matplotlib import widgets\n",
        "\n",
        "class NaiveSequential:\n",
        "  def __init__(self, layers):\n",
        "    print(\"-- Instantiate NaiveSequetial -------------------------------------------\")\n",
        "    self.layers = layers\n",
        "\n",
        "  def __call__(self, inputs):\n",
        "    print(\"-- Call NaiveSequetial -------------------------------------------\")\n",
        "    x= inputs\n",
        "    for l in self.layers:\n",
        "      print(f\"applyng layer in sequential \\n\")\n",
        "      x= l(x)\n",
        "\n",
        "    return x\n",
        "  @property\n",
        "  def weigths(self):\n",
        "    print(\"weigths in NaiveSequential\")\n",
        "    weights = []\n",
        "    for l in self.layers:\n",
        "      weights += l.weigths\n",
        "    return weights\n"
      ],
      "metadata": {
        "id": "55Qgii-ev5yB"
      }
    },
    {
      "cell_type": "code",
      "execution_count": null,
      "outputs": [
        {
          "name": "stdout",
          "output_type": "stream",
          "text": [
            "-- Instantiate NaiveDense -------------------------------------------\n",
            "-- input_size: 784 output_size: 512 -------------------------------------------\n",
            "-- Instantiate NaiveDense -------------------------------------------\n",
            "-- input_size: 512 output_size: 10 -------------------------------------------\n",
            "-- Instantiate NaiveSequetial -------------------------------------------\n",
            "weigths in NaiveSequential\n",
            "printing NaiveDense weigths\n",
            "W : (784, 512)\n",
            "b : (512,)\n",
            "printing NaiveDense weigths\n",
            "W : (512, 10)\n",
            "b : (10,)\n",
            "4\n"
          ]
        }
      ],
      "source": [
        "#now we can create a mock of Keras\n",
        "\n",
        "model = NaiveSequential([\n",
        "                         NaiveDense( input_size= 28*28 , output_size= 512, activation= tf.nn.relu ),\n",
        "                         NaiveDense(input_size= 512, output_size= 10 , activation = tf.nn.softmax)\n",
        "                         ]\n",
        ")\n",
        "#\n",
        "print(len(model.weigths))  # Adding Tuple to List and vice - versa ,Using += operator (list + tuple)\n"
      ],
      "metadata": {
        "id": "8HDA7JXSv5yB",
        "outputId": "be110e01-1b72-434b-fc16-d36fff94eb33"
      }
    },
    {
      "cell_type": "markdown",
      "source": [
        "## batch generator\n",
        "Create a mini batch"
      ],
      "metadata": {
        "id": "R8jxqt3eNazo"
      }
    },
    {
      "cell_type": "code",
      "source": [
        "import math\n",
        "\n",
        "class BatchGenerator:\n",
        "  def __init__(self, images, labels, batch_size = 128):\n",
        "    print(\"-- Instantiate BatchGenerator -------------------------------------------\")\n",
        "    assert (len(images) == len(labels))\n",
        "\n",
        "    self.index = 0\n",
        "    self.images = images\n",
        "    self.labels = labels\n",
        "    self.batch_size = batch_size\n",
        "    self.num_batches = math.ceil(len(images) / batch_size)\n",
        "\n",
        "  def next(self):\n",
        "    print(\"-- next BatchGenerator -------------------------------------------\")\n",
        "    images =  self.images[self.index*self.batch_size: (self.index+1) * self.batch_size]\n",
        "    labels =  self.labels[self.index*self.batch_size: (self.index+1) * self.batch_size]\n",
        "    self.index = self.index + 1\n",
        "    return images, labels\n",
        "\n"
      ],
      "metadata": {
        "id": "-OdVtT0FNgB4"
      },
      "execution_count": null,
      "outputs": []
    },
    {
      "cell_type": "markdown",
      "source": [
        "## runnig one step trainig\n",
        "\n",
        "* compute the predictions of the model for the images in the batch\n",
        "* compute the loss value for these prediction, given the labels\n",
        "* compute the gradient of the loss with regard to the model weigths\n",
        "* move the wweigts by smapp amount in the direction opposite to the gradient "
      ],
      "metadata": {
        "id": "dZC5jpRIPJQ5"
      }
    },
    {
      "cell_type": "code",
      "source": [
        "\n",
        "def one_training_step( model, image_batch, label_batch):\n",
        "  print(\"--  1 executing one_training_step -------------------------------------------\")\n",
        "  with tf.GradientTape() as tape:\n",
        "    print(\"--  2 executing prediction -------------------------------------------\")\n",
        "    prediction = model(image_batch)\n",
        "    print(\"--  3 executing sparse_categorical_crossentropy -------------------------------------------\")\n",
        "    per_sample_loss = tf.keras.losses.sparse_categorical_crossentropy( label_batch, prediction )\n",
        "    print(\"--  4 executing reduce_mean -------------------------------------------\")\n",
        "    average_loss = tf.reduce_mean(per_sample_loss)\n",
        "  print(\"--  5 executing gradient -------------------------------------------\")\n",
        "  gradients = tape.gradient(average_loss,model.weigths) # the output is a list where each entry correspond to a weight  from the model.weigths list \n",
        "  print(f\">  Gradients \\n{len(gradients)}\")\n",
        "  update_weigths(gradients, model.weigths)\n",
        "  return average_loss\n",
        "\n"
      ],
      "metadata": {
        "id": "e5JKzixqPwK3"
      },
      "execution_count": null,
      "outputs": []
    },
    {
      "cell_type": "markdown",
      "source": [
        "## calulating the loss  the gradient\n",
        "the purpose of the weight update is to move the weights by a bit in the direction tha reduce the loss on this batch  \n",
        "The simples way to reduce the loss is to subtract \n",
        "\n",
        "\n",
        "```\n",
        "learning_rate*gradient\n",
        "```\n",
        "from each weight\n",
        "\n"
      ],
      "metadata": {
        "id": "U2D_kgOeXk1o"
      }
    },
    {
      "cell_type": "code",
      "source": [
        "learning_rate = 1e-3\n",
        "\n",
        "def update_weigths(gradients, weights):\n",
        "  print(\"-- executing update_weigths -------------------------------------------\")\n",
        "  for g,w in zip(gradients, weights):\n",
        "    w.assign_sub(g*learning_rate)     #assign_sub is the equivalent of subtract in tensorflow variables"
      ],
      "metadata": {
        "id": "dq_MqQHwYnMp"
      },
      "execution_count": null,
      "outputs": []
    },
    {
      "cell_type": "code",
      "source": [
        "#in the reality, it will be never applied a update like the one before\n",
        "#instead an Optimizer instance is used "
      ],
      "metadata": {
        "id": "2_hfvnVZZHco"
      },
      "execution_count": null,
      "outputs": []
    },
    {
      "cell_type": "code",
      "source": [
        "from tensorflow.keras import optimizers\n",
        "\n",
        "optimizer = optimizers.SGD(learning_rate=1e-3)\n",
        "\n",
        "def update_weigths_with_optimizer(gradient, weights):\n",
        "  optimizer.apply_gradients(zip(gradient,weights))\n"
      ],
      "metadata": {
        "id": "BcJLQfUUZaLQ"
      },
      "execution_count": null,
      "outputs": []
    },
    {
      "cell_type": "markdown",
      "source": [
        "## full trainig loop\n",
        "\n",
        "An epoch is simply repeating the training step for each batch input in the traning data."
      ],
      "metadata": {
        "id": "bwk8y1v6a1cZ"
      }
    },
    {
      "cell_type": "code",
      "source": [
        "history= []\n",
        "history_batch = []\n",
        "\n",
        "def fit(model, images, labels, epochs, batch_size=128):\n",
        "  print(\"-- executing fit -------------------------------------------\")\n",
        "\n",
        "  for epoch_counter in range(epochs):  \n",
        "    print(f\"Epoch {epoch_counter}\")\n",
        "    batch_generator = BatchGenerator(images, labels)\n",
        "    for batch_counter in range(batch_generator.num_batches):\n",
        "      image_batch, labels_batch = batch_generator.next()\n",
        "      loss = one_training_step(model, image_batch, labels_batch)\n",
        "      print(f\"-  LOSS AT EPOCH  {epoch_counter} AND BATCH  {batch_counter}  (with module 100 value : {batch_counter %100 }) : {loss:.2f}\")\n",
        "      history.append([epoch_counter,batch_counter,batch_counter%100,loss.numpy()])\n",
        "      if batch_counter %100 == 0:\n",
        "        print(f\"LOSS AT BATCH  {batch_counter} : {loss:.2f}\")\n",
        "        history_batch.append([epoch_counter,batch_counter,batch_counter%100,loss.numpy()])\n"
      ],
      "metadata": {
        "id": "R-5ROHiMbMfp"
      },
      "execution_count": null,
      "outputs": []
    },
    {
      "cell_type": "markdown",
      "source": [
        "test it"
      ],
      "metadata": {
        "id": "QovZEBDseirR"
      }
    },
    {
      "cell_type": "code",
      "source": [
        "from tensorflow.keras.datasets import mnist\n",
        "(train_images,train_label) , (test_images, test_labels) = mnist.load_data()\n",
        "print(train_images.shape)\n",
        "print(test_label.shape)\n",
        "\n",
        "\n",
        "train_images = train_images.reshape((60000,28*28)).astype(\"float32\")/255\n",
        "test_images = test_images.reshape((10000,28*28)).astype(\"float32\")/255\n",
        "\n",
        "fit(model, train_images,train_label, epochs=10, batch_size= 128)\n",
        "\n"
      ],
      "metadata": {
        "id": "jzFT5ZTweeIR"
      },
      "execution_count": null,
      "outputs": []
    },
    {
      "cell_type": "code",
      "source": [
        "n_history= np.array(history)\n",
        "n_history_batch = np.array(history_batch)\n",
        "np.set_printoptions(suppress = True) #do not want the scientific notation on display\n",
        "print(n_history[:5])\n",
        "print(n_history_batch[:5])\n"
      ],
      "metadata": {
        "colab": {
          "base_uri": "https://localhost:8080/"
        },
        "id": "iJf4E-EzFlVy",
        "outputId": "9b896e23-d6cc-4e6f-8deb-68d319af8161"
      },
      "execution_count": null,
      "outputs": [
        {
          "name": "stdout",
          "output_type": "stream",
          "text": [
            "[[0.         0.         0.         4.44048262]\n",
            " [0.         1.         1.         3.3254571 ]\n",
            " [0.         2.         2.         2.51511502]\n",
            " [0.         3.         3.         2.40715361]\n",
            " [0.         4.         4.         2.33829212]]\n",
            "[[  0.           0.           0.           4.44048262]\n",
            " [  0.         100.           0.           2.26604819]\n",
            " [  0.         200.           0.           2.23391581]\n",
            " [  0.         300.           0.           2.06112862]\n",
            " [  0.         400.           0.           2.22937965]]\n"
          ]
        }
      ]
    },
    {
      "cell_type": "code",
      "source": [
        "import matplotlib.pyplot as plt\n",
        "\n",
        "dim_loss_history = len(n_history)\n",
        "print(dim_loss_history)\n",
        "np_epoch_losses = []\n",
        "np_loss_matrix = []\n",
        "init=0\n",
        "\n",
        "while  (n_history[init][0]) == (n_history[init+1][0]):\n",
        "    np_epoch_losses.append(n_history[init][3])\n",
        "    init = init +1\n",
        "    if init+1 == dim_loss_history:\n",
        "      np_loss_matrix.append(np_epoch_losses)\n",
        "      print(f\" size for epoch {n_history[init][0]} is {len(np_epoch_losses)} and min loss is at {np.argmin(np_epoch_losses)} with value {np_epoch_losses[np.argmin(np_epoch_losses)]}\")\n",
        "      break\n",
        "    else:\n",
        "      if n_history[init][0] != n_history[init+1][0]:\n",
        "        np_epoch_losses.append(n_history[init][3])\n",
        "        np_loss_matrix.append(np_epoch_losses)\n",
        "        print(f\" size for epoch {n_history[init][0]} is {len(np_epoch_losses)} and min loss is at {np.argmin(np_epoch_losses)} with value {np_epoch_losses[np.argmin(np_epoch_losses)]}\")\n",
        "        np_epoch_losses = []\n",
        "        init = init+1\n",
        "\n",
        "print(len(np_loss_matrix))"
      ],
      "metadata": {
        "colab": {
          "base_uri": "https://localhost:8080/",
          "height": 1000
        },
        "id": "_LqF3XFftG3Y",
        "outputId": "159ad012-5d7b-4fec-8122-6049dd22e378"
      },
      "execution_count": null,
      "outputs": [
        {
          "name": "stdout",
          "output_type": "stream",
          "text": [
            "4690\n",
            " size for epoch 0.0 is 469 and min loss is at 461 with value 1.866590976715088\n",
            " size for epoch 1.0 is 469 and min loss is at 461 with value 1.4942524433135986\n",
            " size for epoch 2.0 is 469 and min loss is at 460 with value 1.1912038326263428\n",
            " size for epoch 3.0 is 469 and min loss is at 460 with value 0.955407440662384\n",
            " size for epoch 4.0 is 469 and min loss is at 460 with value 0.7822334170341492\n",
            " size for epoch 5.0 is 469 and min loss is at 460 with value 0.6550636291503906\n",
            " size for epoch 6.0 is 469 and min loss is at 460 with value 0.5601799488067627\n",
            " size for epoch 7.0 is 469 and min loss is at 460 with value 0.4878000020980835\n",
            " size for epoch 8.0 is 469 and min loss is at 460 with value 0.4313253164291382\n",
            " size for epoch 9.0 is 468 and min loss is at 460 with value 0.38633477687835693\n",
            "10\n"
          ]
        }
      ]
    },
    {
      "cell_type": "code",
      "execution_count": null,
      "outputs": [
        {
          "data": {
            "text/plain": "<Figure size 1000x500 with 1 Axes>",
            "image/png": "[encoded data removed]"
          },
          "metadata": {},
          "output_type": "display_data"
        }
      ],
      "source": [
        "\n",
        "plt.figure(figsize=(10,5))\n",
        "epoch = 0\n",
        "for los in np_loss_matrix:\n",
        "  epoch_label = f\" epoch {epoch}\"\n",
        "  plt.plot( los , 'o', label = epoch_label )\n",
        "  epoch = epoch +1\n",
        "\n",
        "plt.legend()\n",
        "plt.show()"
      ],
      "metadata": {
        "id": "6KFOk3Vov5yF",
        "outputId": "87c01168-b7d6-48bc-8e9f-6ec9b2c70bb2"
      }
    },
    {
      "cell_type": "markdown",
      "source": [
        "## test the model"
      ],
      "metadata": {
        "id": "0PZ0NJVq-iG7"
      }
    },
    {
      "cell_type": "code",
      "source": [
        "prediction = model(test_images)\n",
        "prediction = prediction.numpy()\n",
        "print(prediction[1:10])\n"
      ],
      "metadata": {
        "colab": {
          "base_uri": "https://localhost:8080/"
        },
        "id": "7WFLvF0T-lSa",
        "outputId": "b498cb09-3f40-423f-c586-85929f0dcb07"
      },
      "execution_count": null,
      "outputs": [
        {
          "name": "stdout",
          "output_type": "stream",
          "text": [
            "-- Call NaiveSequetial -------------------------------------------\n",
            "applyng layer in sequential \n",
            "\n",
            "-- Call NaiveDense -------------------------------------------\n",
            "W: \n",
            "(784, 512)\n",
            "b: \n",
            "(512,)\n",
            "inputs: \n",
            "(10000, 784)\n",
            "(10000, 512)\n",
            "applyng layer in sequential \n",
            "\n",
            "-- Call NaiveDense -------------------------------------------\n",
            "W: \n",
            "(512, 10)\n",
            "b: \n",
            "(10,)\n",
            "inputs: \n",
            "(10000, 512)\n",
            "(10000, 10)\n",
            "[[0.07326108 0.0147514  0.3078764  0.2635899  0.00081955 0.08526099 0.17877617 0.00043182 0.07369161 0.00154113]\n",
            " [0.00250931 0.85032064 0.02547025 0.03031309 0.00680395 0.01268912 0.01515917 0.01425431 0.03072357 0.01175649]\n",
            " [0.8937975  0.00006429 0.00345329 0.00774952 0.00182755 0.02738027 0.04353644 0.00665456 0.00421205 0.01132462]\n",
            " [0.0426935  0.00147931 0.03758616 0.01265759 0.52004194 0.01785987 0.05472009 0.05861658 0.04303131 0.2113136 ]\n",
            " [0.00059362 0.91671884 0.00979765 0.02098164 0.00287167 0.00534293 0.00288262 0.01079029 0.02143713 0.00858363]\n",
            " [0.00515028 0.0042124  0.00641247 0.05790909 0.38329217 0.05500236 0.01290954 0.0957875  0.07795791 0.30136636]\n",
            " [0.00546037 0.02826016 0.01255655 0.05406589 0.17196792 0.06389697 0.04989721 0.0363408  0.06132875 0.5162254 ]\n",
            " [0.11404493 0.01456816 0.17097199 0.01036985 0.12277126 0.0694764  0.3348695  0.00778576 0.07467959 0.08046255]\n",
            " [0.00592951 0.00207768 0.00115557 0.00406108 0.16335179 0.01276876 0.0075346  0.21385865 0.01689445 0.57236785]]\n"
          ]
        }
      ]
    },
    {
      "cell_type": "code",
      "source": [
        "predicted_label = np.argmax(prediction, axis=1)\n",
        "print(predicted_label[1:10])"
      ],
      "metadata": {
        "colab": {
          "base_uri": "https://localhost:8080/"
        },
        "id": "PSikf3WN_CBx",
        "outputId": "0932bd19-6ebf-462d-ff69-ca278a8a1f96"
      },
      "execution_count": null,
      "outputs": [
        {
          "name": "stdout",
          "output_type": "stream",
          "text": [
            "[2 1 0 4 1 4 9 6 9]\n"
          ]
        }
      ]
    },
    {
      "cell_type": "code",
      "source": [
        "matches = (predicted_label == test_labels)\n",
        "print(matches[1:10])"
      ],
      "metadata": {
        "colab": {
          "base_uri": "https://localhost:8080/"
        },
        "id": "T-ot-BRx_SyA",
        "outputId": "09551d8b-2bd5-43ae-d0b7-dcafb20a4d82"
      },
      "execution_count": null,
      "outputs": [
        {
          "name": "stdout",
          "output_type": "stream",
          "text": [
            "[ True  True  True  True  True  True  True False  True]\n"
          ]
        }
      ]
    },
    {
      "cell_type": "code",
      "source": [
        "print(f\"accurancy: {matches.mean() :.2f}\")"
      ],
      "metadata": {
        "colab": {
          "base_uri": "https://localhost:8080/"
        },
        "id": "x0wG-y-F_fTx",
        "outputId": "39e8a640-e834-4479-eb13-d766591bfe8f"
      },
      "execution_count": null,
      "outputs": [
        {
          "name": "stdout",
          "output_type": "stream",
          "text": [
            "accurancy: 0.82\n"
          ]
        }
      ]
    }
  ]
}